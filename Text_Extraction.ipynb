{
 "cells": [
  {
   "cell_type": "code",
   "execution_count": 6,
   "metadata": {},
   "outputs": [
    {
     "data": {
      "application/vnd.jupyter.widget-view+json": {
       "model_id": "f675fb6d07754604844a32e4fcd7381a",
       "version_major": 2,
       "version_minor": 0
      },
      "text/plain": [
       "HBox(children=(IntProgress(value=0, max=65), HTML(value='')))"
      ]
     },
     "metadata": {},
     "output_type": "display_data"
    },
    {
     "name": "stderr",
     "output_type": "stream",
     "text": [
      "/home/helloworld/anaconda3/lib/python3.7/site-packages/urllib3/connectionpool.py:847: InsecureRequestWarning: Unverified HTTPS request is being made. Adding certificate verification is strongly advised. See: https://urllib3.readthedocs.io/en/latest/advanced-usage.html#ssl-warnings\n",
      "  InsecureRequestWarning)\n",
      "/home/helloworld/anaconda3/lib/python3.7/site-packages/urllib3/connectionpool.py:847: InsecureRequestWarning: Unverified HTTPS request is being made. Adding certificate verification is strongly advised. See: https://urllib3.readthedocs.io/en/latest/advanced-usage.html#ssl-warnings\n",
      "  InsecureRequestWarning)\n",
      "/home/helloworld/anaconda3/lib/python3.7/site-packages/urllib3/connectionpool.py:847: InsecureRequestWarning: Unverified HTTPS request is being made. Adding certificate verification is strongly advised. See: https://urllib3.readthedocs.io/en/latest/advanced-usage.html#ssl-warnings\n",
      "  InsecureRequestWarning)\n",
      "/home/helloworld/anaconda3/lib/python3.7/site-packages/urllib3/connectionpool.py:847: InsecureRequestWarning: Unverified HTTPS request is being made. Adding certificate verification is strongly advised. See: https://urllib3.readthedocs.io/en/latest/advanced-usage.html#ssl-warnings\n",
      "  InsecureRequestWarning)\n",
      "/home/helloworld/anaconda3/lib/python3.7/site-packages/urllib3/connectionpool.py:847: InsecureRequestWarning: Unverified HTTPS request is being made. Adding certificate verification is strongly advised. See: https://urllib3.readthedocs.io/en/latest/advanced-usage.html#ssl-warnings\n",
      "  InsecureRequestWarning)\n",
      "/home/helloworld/anaconda3/lib/python3.7/site-packages/urllib3/connectionpool.py:847: InsecureRequestWarning: Unverified HTTPS request is being made. Adding certificate verification is strongly advised. See: https://urllib3.readthedocs.io/en/latest/advanced-usage.html#ssl-warnings\n",
      "  InsecureRequestWarning)\n",
      "/home/helloworld/anaconda3/lib/python3.7/site-packages/urllib3/connectionpool.py:847: InsecureRequestWarning: Unverified HTTPS request is being made. Adding certificate verification is strongly advised. See: https://urllib3.readthedocs.io/en/latest/advanced-usage.html#ssl-warnings\n",
      "  InsecureRequestWarning)\n",
      "/home/helloworld/anaconda3/lib/python3.7/site-packages/urllib3/connectionpool.py:847: InsecureRequestWarning: Unverified HTTPS request is being made. Adding certificate verification is strongly advised. See: https://urllib3.readthedocs.io/en/latest/advanced-usage.html#ssl-warnings\n",
      "  InsecureRequestWarning)\n",
      "/home/helloworld/anaconda3/lib/python3.7/site-packages/urllib3/connectionpool.py:847: InsecureRequestWarning: Unverified HTTPS request is being made. Adding certificate verification is strongly advised. See: https://urllib3.readthedocs.io/en/latest/advanced-usage.html#ssl-warnings\n",
      "  InsecureRequestWarning)\n",
      "/home/helloworld/anaconda3/lib/python3.7/site-packages/urllib3/connectionpool.py:847: InsecureRequestWarning: Unverified HTTPS request is being made. Adding certificate verification is strongly advised. See: https://urllib3.readthedocs.io/en/latest/advanced-usage.html#ssl-warnings\n",
      "  InsecureRequestWarning)\n",
      "/home/helloworld/anaconda3/lib/python3.7/site-packages/urllib3/connectionpool.py:847: InsecureRequestWarning: Unverified HTTPS request is being made. Adding certificate verification is strongly advised. See: https://urllib3.readthedocs.io/en/latest/advanced-usage.html#ssl-warnings\n",
      "  InsecureRequestWarning)\n",
      "/home/helloworld/anaconda3/lib/python3.7/site-packages/urllib3/connectionpool.py:847: InsecureRequestWarning: Unverified HTTPS request is being made. Adding certificate verification is strongly advised. See: https://urllib3.readthedocs.io/en/latest/advanced-usage.html#ssl-warnings\n",
      "  InsecureRequestWarning)\n",
      "/home/helloworld/anaconda3/lib/python3.7/site-packages/urllib3/connectionpool.py:847: InsecureRequestWarning: Unverified HTTPS request is being made. Adding certificate verification is strongly advised. See: https://urllib3.readthedocs.io/en/latest/advanced-usage.html#ssl-warnings\n",
      "  InsecureRequestWarning)\n"
     ]
    },
    
   ],
   "source": [
    "# to download all the pdfs of a constituency\n",
    "#chnage the url according to your constituency\n",
    "# you can place all the pdf's to the same directory if you have already downloaded\n",
    "# then in that case don't run this cell\n",
    "import requests\n",
    "from tqdm import tqdm_notebook\n",
    "for n in tqdm_notebook(range(99,164)):\n",
    "    a=str(n)\n",
    "    url='https://ceodelhi.gov.in/engdata/AC14/U05A14P'+a+'.pdf'\n",
    "    r=requests.get(url, stream=True,verify=False)\n",
    "    with open('voterslist'+a+'.pdf','wb') as pdf:\n",
    "        for chunk in r.iter_content(chunk_size=1024):\n",
    "            if chunk:\n",
    "                pdf.write(chunk)"
   ]
  },
  {
   "cell_type": "code",
   "execution_count": 2,
   "metadata": {},
   "outputs": [],
   "source": [
    "# to scrap  the table having booth list from the website\n",
    "#for reference you can visit the link below and then change it according to your constituency\n",
    "import ssl\n",
    "\n",
    "ssl._create_default_https_context = ssl._create_unverified_context\n",
    "import pandas as pd\n",
    "page=pd.read_html('https://ceodelhi.gov.in/ConstituentyDetailENG1.aspx?num=1PVm4XXA8vcpccI5B3+anw==&ii=e')\n",
    "page[1].columns=page[1].iloc[0]\n",
    "page[1].drop(index=0,inplace=True)\n",
    "page[1].to_csv('booth_list.csv',index=False)"
   ]
  },
  {
   "cell_type": "code",
   "execution_count": 5,
   "metadata": {},
   "outputs": [],
   "source": [
    "#importing libraries\n",
    "from PyPDF2 import PdfFileWriter, PdfFileReader\n",
    "from PIL import Image\n",
    "import pytesseract\n",
    "from pdf2image import convert_from_path\n",
    "import tempfile\n",
    "import pandas as pd\n",
    "import re\n",
    "\n",
    "#creating a function for the complete process\n",
    "def pdf_processing(pdf_path,booth,booth_list):\n",
    "    \n",
    "    #timer for recording the time taken by each file \n",
    "    \n",
    "    with tempfile.TemporaryDirectory() as path:\n",
    "        #converting all the page of pdf to image using pdf2image library\n",
    "        pages = convert_from_path(pdf_path, output_folder=path,first_page=3)\n",
    "        \n",
    "        #reatting the all_variable for each file\n",
    "        all_text=''\n",
    "        for page in pages:\n",
    "\n",
    "            #cropping the image in three sections\n",
    "            left_crop_img=page.crop((20,105,440,2250))\n",
    "            centre_crop_img=page.crop((500,105,920,2250))\n",
    "            right_crop_img=page.crop((1000,105,1400,2250))\n",
    "            #converting each cropped image to text\n",
    "            text = str(((pytesseract.image_to_string(left_crop_img)))) + str(((pytesseract.image_to_string(centre_crop_img)))) + str(((pytesseract.image_to_string(right_crop_img))))    \n",
    "            \n",
    "            #cleaning the text\n",
    "            text = text.replace('-\\n', '')\n",
    "            text = text.replace('\\n', '')\n",
    "            text = ''.join(e for e in text if e.isalnum() or e == ' ' or e == '/')\n",
    "            text = text.replace('Sesz', 'Sex:F')\n",
    "            text = text.replace('$ex', 'Sex')\n",
    "            text = text.replace('FEMLE', 'FEMALE ')\n",
    "            text = text.replace('8esz', 'Sex: M')\n",
    "            text = text.replace('Falhers', 'Fathers')\n",
    "            text = text.replace('Falhels', 'Fathers')\n",
    "            text = text.replace('Famers', 'Fathers')\n",
    "            text = text.replace('Fthers', 'Fathers')\n",
    "            text = text.replace('Fathels', 'Fathers')\n",
    "            text = text.replace('Fathefs', 'Fathers')\n",
    "            text = text.replace('Fahers', 'Fathers')\n",
    "            text = text.replace('Famels', 'Fathers')\n",
    "            text = text.replace('Olhers', 'Mothers')\n",
    "            text = text.replace('Farhers', 'Fathers')\n",
    "            text = text.replace('Faﬁhels', 'Fathers')\n",
    "            text = text.replace('Fanmers', 'Fathers')\n",
    "            text = text.replace('Mamers', 'Mothers')\n",
    "            text = text.replace(\"Hlsbands\", \"Husband\")  \n",
    "            text = text.replace('Faﬂiers', 'Fathers')\n",
    "            text = text.replace('Fa1hers', 'Fathers')\n",
    "            text = text.replace('Moﬂlers', 'Mothers')   \n",
    "            text = text.replace('Farhels', 'Fathers')\n",
    "            text = text.replace('Fahels', 'Fathers')\n",
    "            text = text.replace('Faﬂmels', 'Fathers')\n",
    "            text = text.replace('Faﬂrers', 'Fathers')   \n",
    "            text = text.replace('Mdlhers', 'Mothers') \n",
    "            text = text.replace('Momers', 'Mothers') \n",
    "            text = text.replace('Eamers', 'Fathers')\n",
    "            text = text.replace('Faﬂmers', 'Fathers')\n",
    "            text = text.replace('Others', 'Fathers')\n",
    "            text = text.replace('Me', 'Age')\n",
    "            text = text.replace('A9e', 'Age')\n",
    "            text = text.replace('lge', 'Age')\n",
    "            text = text.replace('Ige', 'Age')\n",
    "            text = text.replace('Iqe', 'Age')\n",
    "            text = text.replace('Aqe', 'Age')\n",
    "            text = text.replace('Pge', 'Age')\n",
    "            text = text.replace('FALE', 'MALE')\n",
    "            text = text.replace('Sex2MALE', 'MALE')\n",
    "            text = text.replace('Sex2FEMALE', 'FEMALE')\n",
    "            text = text.replace('MEMALE', 'FEMALE')\n",
    "            text = text.replace('5ex', 'Sex')\n",
    "            text = text.replace('6ex', 'Sex')\n",
    "            text = text.replace('8ex', 'Sex')\n",
    "            text = ''.join(e for e in text if e.isalnum() or e == ' ' or e == '/')\n",
    "            #converting to csv format\n",
    "            text = text.replace('Name', ',Name')\n",
    "            text = text.replace(\"Father\", \",Father\")\n",
    "            text = text.replace(\"Husband\", \",Husband\")\n",
    "            text = text.replace(\"Mother\", \",Mother\")\n",
    "            text = text.replace('House Number', ',House Number')\n",
    "            text = text.replace('Age', ',Age')\n",
    "            text = text.replace('Sex', ',Sex')\n",
    "            text = text.replace('FEMALE', ',FEM-ALE\\n')\n",
    "            text = text.replace('MALE', ',MALE\\n')\n",
    "            \n",
    "            #storing the text of each page to all_text\n",
    "            all_text=text+all_text\n",
    "    #storing all the text to a temporary file        \n",
    "    f=open('temp.txt','w')\n",
    "    f.write(all_text)\n",
    "    f.close()\n",
    "    #reading the temporary file as a variable column dataframe\n",
    "    df=pd.DataFrame()\n",
    "    with open('temp.txt', 'r') as f:\n",
    "        for line in f:\n",
    "            df = pd.concat([df, pd.DataFrame([tuple(line.strip().split(','))])], ignore_index=True)\n",
    "    \n",
    "    #datafram cleaning\n",
    "    df.dropna(thresh=2, inplace=True)\n",
    "\n",
    "    df1=df[df[7].isna()][df[5].apply(lambda x: 'Sex' not in str(x) and 'Age' in str(x))][[1,2,3,4,5,6]]\n",
    "    df1[5]=df1[5].apply(lambda x: ''.join(re.findall(r'\\d+', x)) or '00').apply(lambda x: int(x[:2]))\n",
    "    df1.columns=['Name','relation','*name','House Number','Age','Sex']\n",
    "    df=df[[1,2,3,4,5,7]]\n",
    "    df.dropna(inplace=True)\n",
    "    df[5]=df[5].apply(lambda x: ''.join(re.findall(r'\\d+', x)) or '00').apply(lambda x: int(x[-2:]))\n",
    "    df.columns=['Name','relation','*name','House Number','Age','Sex']\n",
    "    df=pd.concat([df,df1])\n",
    "    df['Sex'].apply(lambda x: str(x))\n",
    "    df.dropna(inplace=True)\n",
    "    df=df[df['Sex'].apply(lambda x: 'ALE' in x)]\n",
    "    df.loc[df['Age']<18,'Age']=round(df[df['Age']>18]['Age'].mean())\n",
    "    df['Name']= df['Name'].apply(lambda x: ' '.join(x.split()[1:]))\n",
    "    df['*name'] = df['*name'].apply(lambda x: ' '.join(x.split()[1:]))\n",
    "    df['House Number'] = df['House Number'].apply(lambda x: ' '.join(x.split()[2:]))\n",
    "    df['House Number'] = df['House Number'].apply(lambda x: ''.join((x + 'a').split()[0].split('a')))\n",
    "    df['Sex']=df['Sex'].apply(lambda x: x.replace('-',''))\n",
    "    \n",
    "    df.drop_duplicates(inplace=True)\n",
    "    a=df['House Number'].apply(lambda x: 'I' in str(x))\n",
    "    df.loc[a,'House Number']=df.loc[a,'House Number'].apply(lambda x: str(x).replace('I','/'))\n",
    "    a=df['House Number'].apply(lambda x: 'l' in str(x))\n",
    "    df.loc[a,'House Number']=df.loc[a,'House Number'].apply(lambda x: str(x).replace('I','/'))\n",
    "    i=list(df[df['Sex'].apply(lambda x: not(x=='MALE' or  x=='FEMALE') )].index)\n",
    "    df.drop(i,inplace=True)\n",
    "    df['*name']=df['*name'].apply(lambda x: str(x).replace('is',''))\n",
    "    df['*name']=df['*name'].apply(lambda x: str(x).replace('able',''))\n",
    "    df.dropna(inplace=True)\n",
    "    \n",
    "    df.reset_index(drop=True, inplace=True)\n",
    "    \n",
    "    df['AC NAME']=booth_list.iloc[booth-1]['AC NAME']\n",
    "    df['PART NUMBER']=booth_list.iloc[booth-1]['PART NUMBER']\n",
    "    df['LOCALITY']=booth_list.iloc[booth-1]['LOCALITY']\n",
    "    df['LOCALITY DETAILS']=booth_list.iloc[booth-1]['LOCALITY DETAILS']\n",
    "    \n",
    "    df.to_csv(str(booth_list.iloc[booth-1]['PART NUMBER'])+'.csv',index=False)\n",
    "    df.to_csv(str(booth_list.iloc[booth-1]['AC NAME'])+'.csv', index=False, mode='a', header=False)\n",
    "        \n",
    "    return df"
   ]
  },
  {
   "cell_type": "code",
   "execution_count": null,
   "metadata": {},
   "outputs": [
    {
     "data": {
      "application/vnd.jupyter.widget-view+json": {
       "model_id": "8d43d5bf6c7045b3a1bcfd2c2ca7a10a",
       "version_major": 2,
       "version_minor": 0
      },
      "text/plain": [
       "HBox(children=(IntProgress(value=0, max=10), HTML(value='')))"
      ]
     },
     "metadata": {},
     "output_type": "display_data"
    },
    {
     "name": "stdout",
     "output_type": "stream",
     "text": [
      "15\n"
     ]
    },
    {
     "name": "stderr",
     "output_type": "stream",
     "text": [
      "/home/helloworld/anaconda3/lib/python3.7/site-packages/ipykernel_launcher.py:105: UserWarning: Boolean Series key will be reindexed to match DataFrame index.\n"
     ]
    },
    {
     "name": "stdout",
     "output_type": "stream",
     "text": [
      "16\n"
     ]
    }
   ],
   "source": [
    "from tqdm import tqdm_notebook\n",
    "booth_list=pd.read_csv('booth_list.csv')\n",
    "\n",
    "#if you want to process all the pdf's in parts then please comment the next two lines \n",
    "#before running the cell for the second time \n",
    "temp=pd.DataFrame(columns=['Name','relation','*name','House Number','Age','Sex','AC NAME','PART NUMBER','LOCALITY','LOCALITY DETAILS'])\n",
    "temp.to_csv(booth_list.iloc[0]['AC NAME']+'.csv',index=False)\n",
    "\n",
    "for i in tqdm_notebook(range(15,25)):\n",
    "    print(i)\n",
    "    df=pdf_processing('voterslist'+str(i)+'.pdf',i,booth_list)\n",
    "    "
   ]
  },
  {
   "cell_type": "code",
   "execution_count": 4,
   "metadata": {},
   "outputs": [
    {
     "data": {
      "application/vnd.jupyter.widget-view+json": {
       "model_id": "db38404360254aceac6442bf4788867e",
       "version_major": 2,
       "version_minor": 0
      },
      "text/plain": [
       "HBox(children=(IntProgress(value=0, max=54), HTML(value='')))"
      ]
     },
     "metadata": {},
     "output_type": "display_data"
    }
   ],
   "source": [
    "for i in tqdm_notebook(range(1,190)):\n",
    "    df=pd.read_csv(str(i)+'.csv')\n",
    "    df.to_csv('PATEL NAGAR.csv', index=False, mode='a', header=False)\n"
   ]
  },
  {
   "cell_type": "code",
   "execution_count": null,
   "metadata": {},
   "outputs": [],
   "source": []
  }
 ],
 "metadata": {
  "kernelspec": {
   "display_name": "Python 3",
   "language": "python",
   "name": "python3"
  },
  "language_info": {
   "codemirror_mode": {
    "name": "ipython",
    "version": 3
   },
   "file_extension": ".py",
   "mimetype": "text/x-python",
   "name": "python",
   "nbconvert_exporter": "python",
   "pygments_lexer": "ipython3",
   "version": "3.7.3"
  }
 },
 "nbformat": 4,
 "nbformat_minor": 2
}
